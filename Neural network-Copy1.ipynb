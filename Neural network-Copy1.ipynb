{
 "cells": [
  {
   "cell_type": "code",
   "execution_count": 160,
   "metadata": {
    "ExecuteTime": {
     "end_time": "2020-07-16T14:24:13.266414Z",
     "start_time": "2020-07-16T14:24:13.161665Z"
    }
   },
   "outputs": [],
   "source": [
    "import pandas as pd\n",
    "import numpy as np\n",
    "import seaborn as sns\n",
    "import matplotlib.pyplot as plt\n",
    "df=pd.read_csv(r\"D:\\Users\\abhisv\\Desktop\\Churn_Modelling.csv\")"
   ]
  },
  {
   "cell_type": "code",
   "execution_count": 161,
   "metadata": {
    "ExecuteTime": {
     "end_time": "2020-07-16T14:24:13.309588Z",
     "start_time": "2020-07-16T14:24:13.302679Z"
    }
   },
   "outputs": [
    {
     "data": {
      "text/plain": [
       "(10000, 14)"
      ]
     },
     "execution_count": 161,
     "metadata": {},
     "output_type": "execute_result"
    }
   ],
   "source": [
    "df.shape"
   ]
  },
  {
   "cell_type": "code",
   "execution_count": 162,
   "metadata": {
    "ExecuteTime": {
     "end_time": "2020-07-16T14:24:13.911413Z",
     "start_time": "2020-07-16T14:24:13.870551Z"
    }
   },
   "outputs": [
    {
     "data": {
      "text/html": [
       "<div>\n",
       "<style scoped>\n",
       "    .dataframe tbody tr th:only-of-type {\n",
       "        vertical-align: middle;\n",
       "    }\n",
       "\n",
       "    .dataframe tbody tr th {\n",
       "        vertical-align: top;\n",
       "    }\n",
       "\n",
       "    .dataframe thead th {\n",
       "        text-align: right;\n",
       "    }\n",
       "</style>\n",
       "<table border=\"1\" class=\"dataframe\">\n",
       "  <thead>\n",
       "    <tr style=\"text-align: right;\">\n",
       "      <th></th>\n",
       "      <th>RowNumber</th>\n",
       "      <th>CustomerId</th>\n",
       "      <th>Surname</th>\n",
       "      <th>CreditScore</th>\n",
       "      <th>Geography</th>\n",
       "      <th>Gender</th>\n",
       "      <th>Age</th>\n",
       "      <th>Tenure</th>\n",
       "      <th>Balance</th>\n",
       "      <th>NumOfProducts</th>\n",
       "      <th>HasCrCard</th>\n",
       "      <th>IsActiveMember</th>\n",
       "      <th>EstimatedSalary</th>\n",
       "      <th>Exited</th>\n",
       "    </tr>\n",
       "  </thead>\n",
       "  <tbody>\n",
       "    <tr>\n",
       "      <th>0</th>\n",
       "      <td>1</td>\n",
       "      <td>15634602</td>\n",
       "      <td>Hargrave</td>\n",
       "      <td>619</td>\n",
       "      <td>France</td>\n",
       "      <td>Female</td>\n",
       "      <td>42</td>\n",
       "      <td>2</td>\n",
       "      <td>0.00</td>\n",
       "      <td>1</td>\n",
       "      <td>1</td>\n",
       "      <td>1</td>\n",
       "      <td>101348.88</td>\n",
       "      <td>1</td>\n",
       "    </tr>\n",
       "    <tr>\n",
       "      <th>1</th>\n",
       "      <td>2</td>\n",
       "      <td>15647311</td>\n",
       "      <td>Hill</td>\n",
       "      <td>608</td>\n",
       "      <td>Spain</td>\n",
       "      <td>Female</td>\n",
       "      <td>41</td>\n",
       "      <td>1</td>\n",
       "      <td>83807.86</td>\n",
       "      <td>1</td>\n",
       "      <td>0</td>\n",
       "      <td>1</td>\n",
       "      <td>112542.58</td>\n",
       "      <td>0</td>\n",
       "    </tr>\n",
       "    <tr>\n",
       "      <th>2</th>\n",
       "      <td>3</td>\n",
       "      <td>15619304</td>\n",
       "      <td>Onio</td>\n",
       "      <td>502</td>\n",
       "      <td>France</td>\n",
       "      <td>Female</td>\n",
       "      <td>42</td>\n",
       "      <td>8</td>\n",
       "      <td>159660.80</td>\n",
       "      <td>3</td>\n",
       "      <td>1</td>\n",
       "      <td>0</td>\n",
       "      <td>113931.57</td>\n",
       "      <td>1</td>\n",
       "    </tr>\n",
       "    <tr>\n",
       "      <th>3</th>\n",
       "      <td>4</td>\n",
       "      <td>15701354</td>\n",
       "      <td>Boni</td>\n",
       "      <td>699</td>\n",
       "      <td>France</td>\n",
       "      <td>Female</td>\n",
       "      <td>39</td>\n",
       "      <td>1</td>\n",
       "      <td>0.00</td>\n",
       "      <td>2</td>\n",
       "      <td>0</td>\n",
       "      <td>0</td>\n",
       "      <td>93826.63</td>\n",
       "      <td>0</td>\n",
       "    </tr>\n",
       "    <tr>\n",
       "      <th>4</th>\n",
       "      <td>5</td>\n",
       "      <td>15737888</td>\n",
       "      <td>Mitchell</td>\n",
       "      <td>850</td>\n",
       "      <td>Spain</td>\n",
       "      <td>Female</td>\n",
       "      <td>43</td>\n",
       "      <td>2</td>\n",
       "      <td>125510.82</td>\n",
       "      <td>1</td>\n",
       "      <td>1</td>\n",
       "      <td>1</td>\n",
       "      <td>79084.10</td>\n",
       "      <td>0</td>\n",
       "    </tr>\n",
       "  </tbody>\n",
       "</table>\n",
       "</div>"
      ],
      "text/plain": [
       "   RowNumber  CustomerId   Surname  CreditScore Geography  Gender  Age  \\\n",
       "0          1    15634602  Hargrave          619    France  Female   42   \n",
       "1          2    15647311      Hill          608     Spain  Female   41   \n",
       "2          3    15619304      Onio          502    France  Female   42   \n",
       "3          4    15701354      Boni          699    France  Female   39   \n",
       "4          5    15737888  Mitchell          850     Spain  Female   43   \n",
       "\n",
       "   Tenure    Balance  NumOfProducts  HasCrCard  IsActiveMember  \\\n",
       "0       2       0.00              1          1               1   \n",
       "1       1   83807.86              1          0               1   \n",
       "2       8  159660.80              3          1               0   \n",
       "3       1       0.00              2          0               0   \n",
       "4       2  125510.82              1          1               1   \n",
       "\n",
       "   EstimatedSalary  Exited  \n",
       "0        101348.88       1  \n",
       "1        112542.58       0  \n",
       "2        113931.57       1  \n",
       "3         93826.63       0  \n",
       "4         79084.10       0  "
      ]
     },
     "execution_count": 162,
     "metadata": {},
     "output_type": "execute_result"
    }
   ],
   "source": [
    "df.head()"
   ]
  },
  {
   "cell_type": "code",
   "execution_count": 163,
   "metadata": {
    "ExecuteTime": {
     "end_time": "2020-07-16T14:24:14.143179Z",
     "start_time": "2020-07-16T14:24:14.136198Z"
    }
   },
   "outputs": [],
   "source": [
    "df.drop(['RowNumber','CustomerId','Surname'],axis=1,inplace=True)"
   ]
  },
  {
   "cell_type": "code",
   "execution_count": 164,
   "metadata": {
    "ExecuteTime": {
     "end_time": "2020-07-16T14:24:14.401715Z",
     "start_time": "2020-07-16T14:24:14.377778Z"
    }
   },
   "outputs": [
    {
     "data": {
      "text/html": [
       "<div>\n",
       "<style scoped>\n",
       "    .dataframe tbody tr th:only-of-type {\n",
       "        vertical-align: middle;\n",
       "    }\n",
       "\n",
       "    .dataframe tbody tr th {\n",
       "        vertical-align: top;\n",
       "    }\n",
       "\n",
       "    .dataframe thead th {\n",
       "        text-align: right;\n",
       "    }\n",
       "</style>\n",
       "<table border=\"1\" class=\"dataframe\">\n",
       "  <thead>\n",
       "    <tr style=\"text-align: right;\">\n",
       "      <th></th>\n",
       "      <th>CreditScore</th>\n",
       "      <th>Geography</th>\n",
       "      <th>Gender</th>\n",
       "      <th>Age</th>\n",
       "      <th>Tenure</th>\n",
       "      <th>Balance</th>\n",
       "      <th>NumOfProducts</th>\n",
       "      <th>HasCrCard</th>\n",
       "      <th>IsActiveMember</th>\n",
       "      <th>EstimatedSalary</th>\n",
       "      <th>Exited</th>\n",
       "    </tr>\n",
       "  </thead>\n",
       "  <tbody>\n",
       "    <tr>\n",
       "      <th>0</th>\n",
       "      <td>619</td>\n",
       "      <td>France</td>\n",
       "      <td>Female</td>\n",
       "      <td>42</td>\n",
       "      <td>2</td>\n",
       "      <td>0.00</td>\n",
       "      <td>1</td>\n",
       "      <td>1</td>\n",
       "      <td>1</td>\n",
       "      <td>101348.88</td>\n",
       "      <td>1</td>\n",
       "    </tr>\n",
       "    <tr>\n",
       "      <th>1</th>\n",
       "      <td>608</td>\n",
       "      <td>Spain</td>\n",
       "      <td>Female</td>\n",
       "      <td>41</td>\n",
       "      <td>1</td>\n",
       "      <td>83807.86</td>\n",
       "      <td>1</td>\n",
       "      <td>0</td>\n",
       "      <td>1</td>\n",
       "      <td>112542.58</td>\n",
       "      <td>0</td>\n",
       "    </tr>\n",
       "    <tr>\n",
       "      <th>2</th>\n",
       "      <td>502</td>\n",
       "      <td>France</td>\n",
       "      <td>Female</td>\n",
       "      <td>42</td>\n",
       "      <td>8</td>\n",
       "      <td>159660.80</td>\n",
       "      <td>3</td>\n",
       "      <td>1</td>\n",
       "      <td>0</td>\n",
       "      <td>113931.57</td>\n",
       "      <td>1</td>\n",
       "    </tr>\n",
       "    <tr>\n",
       "      <th>3</th>\n",
       "      <td>699</td>\n",
       "      <td>France</td>\n",
       "      <td>Female</td>\n",
       "      <td>39</td>\n",
       "      <td>1</td>\n",
       "      <td>0.00</td>\n",
       "      <td>2</td>\n",
       "      <td>0</td>\n",
       "      <td>0</td>\n",
       "      <td>93826.63</td>\n",
       "      <td>0</td>\n",
       "    </tr>\n",
       "    <tr>\n",
       "      <th>4</th>\n",
       "      <td>850</td>\n",
       "      <td>Spain</td>\n",
       "      <td>Female</td>\n",
       "      <td>43</td>\n",
       "      <td>2</td>\n",
       "      <td>125510.82</td>\n",
       "      <td>1</td>\n",
       "      <td>1</td>\n",
       "      <td>1</td>\n",
       "      <td>79084.10</td>\n",
       "      <td>0</td>\n",
       "    </tr>\n",
       "  </tbody>\n",
       "</table>\n",
       "</div>"
      ],
      "text/plain": [
       "   CreditScore Geography  Gender  Age  Tenure    Balance  NumOfProducts  \\\n",
       "0          619    France  Female   42       2       0.00              1   \n",
       "1          608     Spain  Female   41       1   83807.86              1   \n",
       "2          502    France  Female   42       8  159660.80              3   \n",
       "3          699    France  Female   39       1       0.00              2   \n",
       "4          850     Spain  Female   43       2  125510.82              1   \n",
       "\n",
       "   HasCrCard  IsActiveMember  EstimatedSalary  Exited  \n",
       "0          1               1        101348.88       1  \n",
       "1          0               1        112542.58       0  \n",
       "2          1               0        113931.57       1  \n",
       "3          0               0         93826.63       0  \n",
       "4          1               1         79084.10       0  "
      ]
     },
     "execution_count": 164,
     "metadata": {},
     "output_type": "execute_result"
    }
   ],
   "source": [
    "df.head()"
   ]
  },
  {
   "cell_type": "code",
   "execution_count": 165,
   "metadata": {
    "ExecuteTime": {
     "end_time": "2020-07-16T14:24:14.636984Z",
     "start_time": "2020-07-16T14:24:14.623695Z"
    }
   },
   "outputs": [],
   "source": [
    "geo={'France':1,'Spain':2,'Germany':3}\n",
    "df.Geography=df.Geography.apply(lambda x:geo[x])"
   ]
  },
  {
   "cell_type": "code",
   "execution_count": 166,
   "metadata": {
    "ExecuteTime": {
     "end_time": "2020-07-16T14:24:14.674749Z",
     "start_time": "2020-07-16T14:24:14.644806Z"
    }
   },
   "outputs": [],
   "source": [
    "age={'Female':1,'Male':2}\n",
    "df.Gender=df.Gender.apply(lambda x:age[x])"
   ]
  },
  {
   "cell_type": "code",
   "execution_count": 167,
   "metadata": {
    "ExecuteTime": {
     "end_time": "2020-07-16T14:24:15.188599Z",
     "start_time": "2020-07-16T14:24:15.179592Z"
    }
   },
   "outputs": [],
   "source": [
    "y=df[['Exited']]"
   ]
  },
  {
   "cell_type": "code",
   "execution_count": 168,
   "metadata": {
    "ExecuteTime": {
     "end_time": "2020-07-16T14:24:15.413379Z",
     "start_time": "2020-07-16T14:24:15.402406Z"
    }
   },
   "outputs": [],
   "source": [
    "x=df.iloc[:,0:9]"
   ]
  },
  {
   "cell_type": "code",
   "execution_count": 169,
   "metadata": {
    "ExecuteTime": {
     "end_time": "2020-07-16T14:24:16.910627Z",
     "start_time": "2020-07-16T14:24:16.891675Z"
    }
   },
   "outputs": [
    {
     "data": {
      "text/plain": [
       "Index(['CreditScore', 'Geography', 'Gender', 'Age', 'Tenure', 'Balance',\n",
       "       'NumOfProducts', 'HasCrCard', 'IsActiveMember'],\n",
       "      dtype='object')"
      ]
     },
     "execution_count": 169,
     "metadata": {},
     "output_type": "execute_result"
    }
   ],
   "source": [
    "x.columns"
   ]
  },
  {
   "cell_type": "code",
   "execution_count": 170,
   "metadata": {
    "ExecuteTime": {
     "end_time": "2020-07-16T14:24:17.072923Z",
     "start_time": "2020-07-16T14:24:17.048307Z"
    }
   },
   "outputs": [],
   "source": [
    "from sklearn.preprocessing import MinMaxScaler\n",
    "mms=MinMaxScaler()\n",
    "x=pd.DataFrame(mms.fit_transform(x),columns=['CreditScore', 'Geography', 'Gender', 'Age', 'Tenure', 'Balance','NumOfProducts', 'HasCrCard', 'IsActiveMember'])"
   ]
  },
  {
   "cell_type": "code",
   "execution_count": 171,
   "metadata": {
    "ExecuteTime": {
     "end_time": "2020-07-16T14:24:17.624273Z",
     "start_time": "2020-07-16T14:24:17.565355Z"
    }
   },
   "outputs": [
    {
     "name": "stderr",
     "output_type": "stream",
     "text": [
      "D:\\Python\\Anaconda\\lib\\site-packages\\sklearn\\linear_model\\logistic.py:432: FutureWarning: Default solver will be changed to 'lbfgs' in 0.22. Specify a solver to silence this warning.\n",
      "  FutureWarning)\n",
      "D:\\Python\\Anaconda\\lib\\site-packages\\sklearn\\utils\\validation.py:724: DataConversionWarning: A column-vector y was passed when a 1d array was expected. Please change the shape of y to (n_samples, ), for example using ravel().\n",
      "  y = column_or_1d(y, warn=True)\n"
     ]
    }
   ],
   "source": [
    "from sklearn.linear_model import LogisticRegression\n",
    "lr=LogisticRegression()\n",
    "lr.fit(x,y)\n",
    "y_pred=lr.predict(x)"
   ]
  },
  {
   "cell_type": "code",
   "execution_count": 172,
   "metadata": {
    "ExecuteTime": {
     "end_time": "2020-07-16T14:24:17.999878Z",
     "start_time": "2020-07-16T14:24:17.990932Z"
    }
   },
   "outputs": [
    {
     "name": "stdout",
     "output_type": "stream",
     "text": [
      "0.8128\n"
     ]
    }
   ],
   "source": [
    "from sklearn.metrics import confusion_matrix,accuracy_score\n",
    "ascore=accuracy_score(y,y_pred)\n",
    "print(ascore)"
   ]
  },
  {
   "cell_type": "code",
   "execution_count": 173,
   "metadata": {
    "ExecuteTime": {
     "end_time": "2020-07-16T14:24:18.333091Z",
     "start_time": "2020-07-16T14:24:18.305645Z"
    }
   },
   "outputs": [
    {
     "name": "stdout",
     "output_type": "stream",
     "text": [
      "[[7710  253]\n",
      " [1619  418]]\n"
     ]
    }
   ],
   "source": [
    "cm=confusion_matrix(y,y_pred)\n",
    "print(cm)"
   ]
  },
  {
   "cell_type": "code",
   "execution_count": 174,
   "metadata": {
    "ExecuteTime": {
     "end_time": "2020-07-16T14:24:19.150664Z",
     "start_time": "2020-07-16T14:24:19.137706Z"
    }
   },
   "outputs": [],
   "source": [
    "# Lets apply simple one layer neural network"
   ]
  },
  {
   "cell_type": "code",
   "execution_count": 175,
   "metadata": {
    "ExecuteTime": {
     "end_time": "2020-07-16T14:24:19.522179Z",
     "start_time": "2020-07-16T14:24:19.512208Z"
    }
   },
   "outputs": [
    {
     "name": "stdout",
     "output_type": "stream",
     "text": [
      "(10000, 9) (10000, 1)\n"
     ]
    }
   ],
   "source": [
    "print(x.shape,y.shape)"
   ]
  },
  {
   "cell_type": "code",
   "execution_count": 176,
   "metadata": {
    "ExecuteTime": {
     "end_time": "2020-07-16T14:24:22.021812Z",
     "start_time": "2020-07-16T14:24:22.005859Z"
    }
   },
   "outputs": [
    {
     "name": "stdout",
     "output_type": "stream",
     "text": [
      "The shape of x:(10000, 9)\n",
      "The shape of y:(10000, 1)\n",
      "I have m=10000 training examples\n"
     ]
    }
   ],
   "source": [
    "shape_x=x.shape\n",
    "shape_y=y.shape\n",
    "m=x.shape[0]\n",
    "print('The shape of x:' +str(x.shape))\n",
    "print('The shape of y:' +str(y.shape))\n",
    "print('I have m=%d training examples'%(m))"
   ]
  },
  {
   "cell_type": "code",
   "execution_count": 177,
   "metadata": {
    "ExecuteTime": {
     "end_time": "2020-07-16T14:24:22.908865Z",
     "start_time": "2020-07-16T14:24:22.889656Z"
    }
   },
   "outputs": [
    {
     "data": {
      "text/plain": [
       "((10000, 9), (10000, 1))"
      ]
     },
     "execution_count": 177,
     "metadata": {},
     "output_type": "execute_result"
    }
   ],
   "source": [
    "x.shape,y.shape"
   ]
  },
  {
   "cell_type": "code",
   "execution_count": 178,
   "metadata": {
    "ExecuteTime": {
     "end_time": "2020-07-16T14:24:23.994895Z",
     "start_time": "2020-07-16T14:24:23.975074Z"
    }
   },
   "outputs": [],
   "source": [
    "#Defining layer sizes\n",
    "def layer_size(x,y):\n",
    "    n_x=x.shape[1]\n",
    "    n_h=10\n",
    "    n_y=y.shape[1]\n",
    "    return (n_x,n_h,n_y)"
   ]
  },
  {
   "cell_type": "code",
   "execution_count": 179,
   "metadata": {
    "ExecuteTime": {
     "end_time": "2020-07-16T14:24:24.167104Z",
     "start_time": "2020-07-16T14:24:24.154122Z"
    }
   },
   "outputs": [
    {
     "name": "stdout",
     "output_type": "stream",
     "text": [
      "The size of the input layer is: n_x = 9\n",
      "The size of the hidden layer is: n_h = 10\n",
      "The size of the output layer is: n_y = 1\n"
     ]
    }
   ],
   "source": [
    "n_x,n_h,n_y=layer_size(x,y)\n",
    "print(\"The size of the input layer is: n_x = \" + str(n_x))\n",
    "print(\"The size of the hidden layer is: n_h = \" + str(n_h))\n",
    "print(\"The size of the output layer is: n_y = \" + str(n_y))"
   ]
  },
  {
   "cell_type": "code",
   "execution_count": 180,
   "metadata": {
    "ExecuteTime": {
     "end_time": "2020-07-16T14:24:24.738142Z",
     "start_time": "2020-07-16T14:24:24.724047Z"
    }
   },
   "outputs": [],
   "source": [
    "#Initialize model parameters\n",
    "def initialize_parameters(n_x,n_h,n_y):\n",
    "    np.random.seed(2)\n",
    "    W1=np.random.randn(n_h,n_x)*0.01\n",
    "    b1=np.zeros(shape=(n_h,1))\n",
    "    W2=np.random.randn(n_y,n_h)*0.01\n",
    "    b2=np.zeros(shape=(n_y,1))\n",
    "    \n",
    "    assert(W1.shape==(n_h,n_x))\n",
    "    assert(b1.shape==(n_h,1))\n",
    "    assert(W2.shape==(n_y,n_h))\n",
    "    assert(b2.shape==(n_y,1))\n",
    "    \n",
    "    parameters={'W1':W1,'b1':b1,'W2':W2,'b2':b2}\n",
    "    return parameters"
   ]
  },
  {
   "cell_type": "code",
   "execution_count": 181,
   "metadata": {
    "ExecuteTime": {
     "end_time": "2020-07-16T14:24:25.218989Z",
     "start_time": "2020-07-16T14:24:25.210008Z"
    }
   },
   "outputs": [],
   "source": [
    "parameters=initialize_parameters(n_x,n_h,n_y)"
   ]
  },
  {
   "cell_type": "code",
   "execution_count": 182,
   "metadata": {
    "ExecuteTime": {
     "end_time": "2020-07-16T14:24:25.577617Z",
     "start_time": "2020-07-16T14:24:25.559627Z"
    }
   },
   "outputs": [
    {
     "data": {
      "text/plain": [
       "{'W1': array([[-4.16757847e-03, -5.62668272e-04, -2.13619610e-02,\n",
       "          1.64027081e-02, -1.79343559e-02, -8.41747366e-03,\n",
       "          5.02881417e-03, -1.24528809e-02, -1.05795222e-02],\n",
       "        [-9.09007615e-03,  5.51454045e-03,  2.29220801e-02,\n",
       "          4.15393930e-04, -1.11792545e-02,  5.39058321e-03,\n",
       "         -5.96159700e-03, -1.91304965e-04,  1.17500122e-02],\n",
       "        [-7.47870949e-03,  9.02525097e-05, -8.78107893e-03,\n",
       "         -1.56434170e-03,  2.56570452e-03, -9.88779049e-03,\n",
       "         -3.38821966e-03, -2.36184031e-03, -6.37655012e-03],\n",
       "        [-1.18761229e-02, -1.42121723e-02, -1.53495196e-03,\n",
       "         -2.69056960e-03,  2.23136679e-02, -2.43476758e-02,\n",
       "          1.12726505e-03,  3.70444537e-03,  1.35963386e-02],\n",
       "        [ 5.01857207e-03, -8.44213704e-03,  9.76147160e-08,\n",
       "          5.42352572e-03, -3.13508197e-03,  7.71011738e-03,\n",
       "         -1.86809065e-02,  1.73118467e-02,  1.46767801e-02],\n",
       "        [-3.35677339e-03,  6.11340780e-03,  4.79705919e-04,\n",
       "         -8.29135289e-03,  8.77102184e-04,  1.00036589e-02,\n",
       "         -3.81092518e-03, -3.75669423e-03, -7.44707629e-04],\n",
       "        [ 4.33496330e-03,  1.27837923e-02, -6.34679305e-03,\n",
       "          5.08396243e-03,  2.16116006e-03, -1.85861239e-02,\n",
       "         -4.19316482e-03, -1.32328898e-03, -3.95702397e-04],\n",
       "        [ 3.26003433e-03, -2.04032305e-02,  4.62555231e-04,\n",
       "         -6.77675577e-03, -1.43943903e-02,  5.24296430e-03,\n",
       "          7.35279576e-03, -6.53250268e-03,  8.42456282e-03],\n",
       "        [-3.81516482e-03,  6.64890091e-04, -1.09873895e-02,\n",
       "          1.58448706e-02, -2.65944946e-02, -9.14526229e-04,\n",
       "          6.95119605e-03, -2.03346655e-02, -1.89469265e-03],\n",
       "        [-7.72186654e-04,  8.24703005e-03,  1.24821292e-02,\n",
       "         -4.03892269e-03, -1.38451867e-02,  1.36723542e-02,\n",
       "          1.21788563e-02, -4.62005348e-03,  3.50888494e-03]]),\n",
       " 'b1': array([[0.],\n",
       "        [0.],\n",
       "        [0.],\n",
       "        [0.],\n",
       "        [0.],\n",
       "        [0.],\n",
       "        [0.],\n",
       "        [0.],\n",
       "        [0.],\n",
       "        [0.]]),\n",
       " 'W2': array([[ 0.00381866,  0.00566275,  0.00204208,  0.01406696, -0.0173796 ,\n",
       "          0.01040824,  0.00380472, -0.00217135,  0.01173531, -0.02343603]]),\n",
       " 'b2': array([[0.]])}"
      ]
     },
     "execution_count": 182,
     "metadata": {},
     "output_type": "execute_result"
    }
   ],
   "source": [
    "parameters"
   ]
  },
  {
   "cell_type": "code",
   "execution_count": 183,
   "metadata": {
    "ExecuteTime": {
     "end_time": "2020-07-16T14:24:26.519256Z",
     "start_time": "2020-07-16T14:24:26.501777Z"
    }
   },
   "outputs": [],
   "source": [
    "import math\n",
    "\n",
    "def sigmoid(x):\n",
    "    \"\"\"\n",
    "    Compute sigmoid of x.\n",
    "\n",
    "    Arguments:\n",
    "    x -- A scalar\n",
    "\n",
    "    Return:\n",
    "    s -- sigmoid(x)\n",
    "    \"\"\"\n",
    "    \n",
    "    ### START CODE HERE ### (≈ 1 line of code)\n",
    "    s = 1/(1+np.exp(-x))\n",
    "    ### END CODE HERE ###\n",
    "    \n",
    "    return s"
   ]
  },
  {
   "cell_type": "code",
   "execution_count": 184,
   "metadata": {
    "ExecuteTime": {
     "end_time": "2020-07-16T14:24:28.462453Z",
     "start_time": "2020-07-16T14:24:28.442506Z"
    }
   },
   "outputs": [
    {
     "data": {
      "text/plain": [
       "9"
      ]
     },
     "execution_count": 184,
     "metadata": {},
     "output_type": "execute_result"
    }
   ],
   "source": [
    "x.shape[1]"
   ]
  },
  {
   "cell_type": "code",
   "execution_count": 185,
   "metadata": {
    "ExecuteTime": {
     "end_time": "2020-07-16T14:24:28.714113Z",
     "start_time": "2020-07-16T14:24:28.708087Z"
    }
   },
   "outputs": [
    {
     "data": {
      "text/plain": [
       "(10000, 9)"
      ]
     },
     "execution_count": 185,
     "metadata": {},
     "output_type": "execute_result"
    }
   ],
   "source": [
    "x.shape"
   ]
  },
  {
   "cell_type": "code",
   "execution_count": 208,
   "metadata": {
    "ExecuteTime": {
     "end_time": "2020-07-16T14:28:42.422269Z",
     "start_time": "2020-07-16T14:28:42.410298Z"
    }
   },
   "outputs": [],
   "source": [
    "#Implement Forward propagation\n",
    "A0=np.random.randn(x.shape[1],1)\n",
    "def forward_propagation(A0,parameters):\n",
    "    np.random.seed(2)\n",
    "    W1=parameters['W1']\n",
    "    #print('The shape of W1:',W1.shape)\n",
    "    b1=parameters['b1']\n",
    "    #print('The shape of b1:',b1.shape)\n",
    "    W2=parameters['W2']\n",
    "    #print('The shape of W2:',W2.shape)\n",
    "    b2=parameters['b2']\n",
    "    #print('The shape of b2:',b2.shape)\n",
    "    Z1 = np.dot(W1, A0) + b1\n",
    "    #print('The shape of Z1:',Z1.shape)\n",
    "    A1 = np.tanh(Z1)\n",
    "    #print('The shape of A1:',A1.shape)\n",
    "    Z2 = np.dot(W2, A1) + b2\n",
    "    #print('The shape of Z2:',Z2.shape)\n",
    "    A2 = np.tanh(Z2)\n",
    "    #print('The shape of A2:',A2.shape)\n",
    "    assert(A2.shape == (A0.shape[1],1))\n",
    "    cache={'Z1':Z1,'A1':A1,'Z2':Z2,'A2':A2}\n",
    "    return A2,cache"
   ]
  },
  {
   "cell_type": "code",
   "execution_count": 209,
   "metadata": {
    "ExecuteTime": {
     "end_time": "2020-07-16T14:28:43.295942Z",
     "start_time": "2020-07-16T14:28:43.287963Z"
    }
   },
   "outputs": [
    {
     "name": "stdout",
     "output_type": "stream",
     "text": [
      "-0.11232972464543405 -0.24589551639277601 -56.95328460732327 -1.0\n"
     ]
    }
   ],
   "source": [
    "A2,cache=forward_propagation(A0,parameters)\n",
    "print(np.mean(cache['Z1']) ,np.mean(cache['A1']),np.mean(cache['Z2']),np.mean(cache['A2']))"
   ]
  },
  {
   "cell_type": "code",
   "execution_count": 210,
   "metadata": {
    "ExecuteTime": {
     "end_time": "2020-07-16T14:28:43.728285Z",
     "start_time": "2020-07-16T14:28:43.722322Z"
    }
   },
   "outputs": [
    {
     "name": "stdout",
     "output_type": "stream",
     "text": [
      "shape of A2: (1, 1)\n",
      "shape of y: (10000, 1)\n"
     ]
    }
   ],
   "source": [
    "print('shape of A2:',A2.shape)\n",
    "print('shape of y:',y.shape)"
   ]
  },
  {
   "cell_type": "code",
   "execution_count": 211,
   "metadata": {
    "ExecuteTime": {
     "end_time": "2020-07-16T14:28:44.451963Z",
     "start_time": "2020-07-16T14:28:44.446012Z"
    }
   },
   "outputs": [
    {
     "name": "stdout",
     "output_type": "stream",
     "text": [
      "shape of y: (10000, 1)\n"
     ]
    }
   ],
   "source": [
    "print('shape of y:',y.shape)"
   ]
  },
  {
   "cell_type": "code",
   "execution_count": 212,
   "metadata": {
    "ExecuteTime": {
     "end_time": "2020-07-16T14:28:45.026820Z",
     "start_time": "2020-07-16T14:28:45.015835Z"
    }
   },
   "outputs": [],
   "source": [
    "Y=(np.random.randn(1,1)>0)\n",
    "def compute_cost(A2,Y,parameters):\n",
    "    m=y.shape[1]\n",
    "    W1 = parameters['W1']\n",
    "    W2 = parameters['W2']\n",
    "    #logprobs = np.multiply(np.log(A2), y) + np.multiply((1 - y), np.log(1 - A2))\n",
    "    #cost = - np.sum(logprobs) / m\n",
    "    logprobs = Y*np.log(A2) + (1-Y)*np.log(1-A2)\n",
    "    cost = -1/m*np.sum(logprobs)\n",
    "    cost = np.squeeze(cost) \n",
    "    #print('The shape of cost', cost.shape)\n",
    "    #assert(isinstance(cost,float))\n",
    "    return cost"
   ]
  },
  {
   "cell_type": "code",
   "execution_count": 213,
   "metadata": {
    "ExecuteTime": {
     "end_time": "2020-07-16T14:28:45.513134Z",
     "start_time": "2020-07-16T14:28:45.493178Z"
    }
   },
   "outputs": [
    {
     "name": "stdout",
     "output_type": "stream",
     "text": [
      "cost = nan\n"
     ]
    },
    {
     "name": "stderr",
     "output_type": "stream",
     "text": [
      "D:\\Python\\Anaconda\\lib\\site-packages\\ipykernel_launcher.py:8: RuntimeWarning: invalid value encountered in log\n",
      "  \n"
     ]
    }
   ],
   "source": [
    "cost=compute_cost(A2,Y,parameters)\n",
    "print(\"cost = \" + str(compute_cost(A2,Y,parameters)))"
   ]
  },
  {
   "cell_type": "code",
   "execution_count": 214,
   "metadata": {
    "ExecuteTime": {
     "end_time": "2020-07-16T14:28:47.632333Z",
     "start_time": "2020-07-16T14:28:47.619420Z"
    }
   },
   "outputs": [],
   "source": [
    "def backward_propagation(parameters,cache,A0,Y):\n",
    "    m=y.shape[1]\n",
    "    W1=parameters['W1']\n",
    "    W2=parameters['W2']\n",
    "    A1=cache['A1']\n",
    "    A2=cache['A2']\n",
    "    dZ2=A2-Y\n",
    "    dW2=1/m * (dZ2@A1.T)\n",
    "    db2=1/m * np.sum(dZ2,axis=1, keepdims=True)\n",
    "    dZ1=W2.T @ dZ2 * (1-A1**2)\n",
    "    dW1=1/m * dZ1 @ A0.T\n",
    "    db1=1/m * np.sum(dZ1,axis=1, keepdims=True)\n",
    "    grads={'dW1':dW1,'dW2':dW2,'dZ1':dZ1,'dZ2':dZ2,'db1':db1,'db2':db2}\n",
    "    return grads"
   ]
  },
  {
   "cell_type": "code",
   "execution_count": 215,
   "metadata": {
    "ExecuteTime": {
     "end_time": "2020-07-16T14:28:48.407731Z",
     "start_time": "2020-07-16T14:28:48.397103Z"
    }
   },
   "outputs": [
    {
     "name": "stdout",
     "output_type": "stream",
     "text": [
      "dW1 = [[-3.61831925e-01 -4.88512323e-02 -1.85465961e+00  1.42409399e+00\n",
      "  -1.55707266e+00 -7.30810642e-01  4.36604979e-01 -1.08116737e+00\n",
      "  -9.18521128e-01]\n",
      " [ 3.54661041e-01  4.78830852e-02  1.81790345e+00 -1.39587090e+00\n",
      "   1.52621417e+00  7.16327235e-01 -4.27952222e-01  1.05974050e+00\n",
      "   9.00317624e-01]\n",
      " [ 5.45301658e-01  7.36216351e-02  2.79507940e+00 -2.14619208e+00\n",
      "   2.34659864e+00  1.10137394e+00 -6.57988979e-01  1.62938182e+00\n",
      "   1.38426451e+00]\n",
      " [ 9.19945657e-02  1.24202636e-02  4.71541048e-01 -3.62071168e-01\n",
      "   3.95880554e-01  1.85806179e-01 -1.11005366e-01  2.74883214e-01\n",
      "   2.33530947e-01]\n",
      " [ 4.32082370e-03  5.83358040e-04  2.21474575e-02 -1.70058489e-02\n",
      "   1.85938166e-02  8.72699097e-03 -5.21372774e-03  1.29107834e-02\n",
      "   1.09685398e-02]\n",
      " [-3.33359710e-02 -4.50071747e-03 -1.70871818e-01  1.31203337e-01\n",
      "  -1.43454807e-01 -6.73303838e-02  4.02248943e-02 -9.96091324e-02\n",
      "  -8.46243562e-02]\n",
      " [ 5.75942944e-01  7.77585409e-02  2.95213893e+00 -2.26678970e+00\n",
      "   2.47845740e+00  1.16326173e+00 -6.94962328e-01  1.72093913e+00\n",
      "   1.46204833e+00]\n",
      " [-2.76312932e-01 -3.73052411e-02 -1.41631072e+00  1.08750930e+00\n",
      "  -1.18905846e+00 -5.58083510e-01  3.33413371e-01 -8.25633409e-01\n",
      "  -7.01428614e-01]\n",
      " [-6.67293536e-02 -9.00918611e-03 -3.42037914e-01  2.62632633e-01\n",
      "  -2.87156674e-01 -1.34776725e-01  8.05190643e-02 -1.99389812e-01\n",
      "  -1.69394453e-01]\n",
      " [-2.51001634e-03 -3.38879416e-04 -1.28657136e-02  9.87889384e-03\n",
      "  -1.08013626e-02 -5.06960974e-03  3.02871459e-03 -7.50002301e-03\n",
      "  -6.37175130e-03]]\n",
      "db1 = [[ 0.86820663]\n",
      " [-0.85100027]\n",
      " [-1.30843765]\n",
      " [-0.22073865]\n",
      " [-0.01036771]\n",
      " [ 0.07998883]\n",
      " [-1.38196065]\n",
      " [ 0.66300595]\n",
      " [ 0.16011541]\n",
      " [ 0.00602272]]\n",
      "dW2 = [[ 0.42505467  0.72987978  0.28023268  0.97634156 -0.99057131  0.92840548\n",
      "   0.51004856 -0.33756263  0.93576096 -0.99863458]]\n",
      "db2 = [[-1.]]\n"
     ]
    }
   ],
   "source": [
    "grads=backward_propagation(parameters,cache,A0,Y)\n",
    "print (\"dW1 = \"+ str(grads[\"dW1\"]))\n",
    "print (\"db1 = \"+ str(grads[\"db1\"]))\n",
    "print (\"dW2 = \"+ str(grads[\"dW2\"]))\n",
    "print (\"db2 = \"+ str(grads[\"db2\"]))"
   ]
  },
  {
   "cell_type": "code",
   "execution_count": 216,
   "metadata": {
    "ExecuteTime": {
     "end_time": "2020-07-16T14:28:49.629982Z",
     "start_time": "2020-07-16T14:28:49.622049Z"
    }
   },
   "outputs": [],
   "source": [
    "def update_parameters(parameters,grads,learning_rate=100):#to update W1,b1,W2,b2\n",
    "    W1=parameters['W1']\n",
    "    b1=parameters['b1']\n",
    "    W2=parameters['W2']\n",
    "    b2=parameters['b2']\n",
    "    \n",
    "    dW1=grads['dW1']\n",
    "    db1=grads['db1']\n",
    "    dW2=grads['dW2']\n",
    "    db2=grads['db2']\n",
    "    \n",
    "    W1=W1-learning_rate*dW1\n",
    "    b1=b1-learning_rate*db1\n",
    "    W2=W2-learning_rate*dW2\n",
    "    b2=b2-learning_rate*db2\n",
    "    \n",
    "    parameters={'W1':W1,'b1':b1,'W2':W2,'b2':b2}\n",
    "    return parameters"
   ]
  },
  {
   "cell_type": "code",
   "execution_count": 217,
   "metadata": {
    "ExecuteTime": {
     "end_time": "2020-07-16T14:28:50.063026Z",
     "start_time": "2020-07-16T14:28:50.053273Z"
    },
    "scrolled": false
   },
   "outputs": [
    {
     "name": "stdout",
     "output_type": "stream",
     "text": [
      "W1 = [[ 3.59575832e+01  4.81095555e+00  1.85660628e+02 -1.42475564e+02\n",
      "   1.55747305e+02  7.25797654e+01 -4.40053717e+01  1.08020267e+02\n",
      "   9.19786576e+01]\n",
      " [-3.58032885e+01 -4.89184924e+00 -1.81447348e+02  1.39465170e+02\n",
      "  -1.52546701e+02 -7.23575998e+01  4.22708351e+01 -1.06098723e+02\n",
      "  -8.98168451e+01]\n",
      " [-5.46560216e+01 -7.40142063e+00 -2.79401237e+02  2.14573505e+02\n",
      "  -2.34626307e+02 -1.10410764e+02  6.56084607e+01 -1.62985457e+02\n",
      "  -1.38359525e+02]\n",
      " [-1.00201894e+01 -1.52509437e+00 -4.63665519e+01  3.59028306e+01\n",
      "  -3.93539830e+01 -2.04053052e+01  9.82358059e+00 -2.77915032e+01\n",
      "  -2.28386266e+01]\n",
      " [ 5.81093622e-01  2.68323434e-01 -3.19826316e+00  2.08191664e+00\n",
      "  -2.12645245e+00  1.37895074e+00  2.09569236e+00 -8.91264084e-01\n",
      "  -1.70646276e+00]\n",
      " [ 2.72648366e+00  2.55502517e-01  1.76766621e+01 -1.33537457e+01\n",
      "   1.45044214e+01  5.39921067e+00 -4.98030282e+00  9.72808678e+00\n",
      "   8.83555770e+00]\n",
      " [-5.78103853e+01 -7.83633763e+00 -2.95005202e+02  2.26601865e+02\n",
      "  -2.47785871e+02 -1.16835380e+02  6.91437423e+01 -1.72178867e+02\n",
      "  -1.46068734e+02]\n",
      " [ 2.77604976e+01  3.75198352e+00  1.41508668e+02 -1.08710747e+02\n",
      "   1.18858479e+02  5.60939188e+01 -3.31349783e+01  8.26045926e+01\n",
      "   7.00732969e+01]\n",
      " [ 5.98874891e+00  6.75434939e-01  3.48565466e+01 -2.65011061e+01\n",
      "   2.88671942e+01  1.19623991e+01 -9.12001728e+00  1.96605087e+01\n",
      "   1.73588598e+01]\n",
      " [ 1.60728785e+00  4.93207520e-01 -2.48376677e-02 -4.85926571e-01\n",
      "   7.11013051e-01  3.54115094e+00  1.85361012e+00  1.26026028e+00\n",
      "  -1.99652971e-01]]\n",
      "b1 = [[-87.0113108 ]\n",
      " [ 84.81755751]\n",
      " [130.74184932]\n",
      " [ 21.37748835]\n",
      " [  1.90473359]\n",
      " [ -8.51868073]\n",
      " [138.00629114]\n",
      " [-66.19216435]\n",
      " [-16.59729966]\n",
      " [  0.56607337]]\n",
      "W2 = [[-43.56512338 -71.16678162 -26.60332112 -92.91319614  99.60953151\n",
      "  -93.41991123 -49.13696447  33.00799303 -94.86370021  97.65650922]]\n",
      "b2 = [[50.05201564]]\n"
     ]
    }
   ],
   "source": [
    "parameters=update_parameters(parameters,grads)\n",
    "print(\"W1 = \" + str(parameters[\"W1\"]))\n",
    "print(\"b1 = \" + str(parameters[\"b1\"]))\n",
    "print(\"W2 = \" + str(parameters[\"W2\"]))\n",
    "print(\"b2 = \" + str(parameters[\"b2\"]))"
   ]
  },
  {
   "cell_type": "code",
   "execution_count": 218,
   "metadata": {
    "ExecuteTime": {
     "end_time": "2020-07-16T14:28:50.578612Z",
     "start_time": "2020-07-16T14:28:50.562098Z"
    }
   },
   "outputs": [],
   "source": [
    "def nn_model(A0,Y,n_h,num_iterations=20000,print_cost=False):\n",
    "    np.random.seed(2)\n",
    "    n_x = layer_size(x,y)[0]\n",
    "    n_h = layer_size(x,y)[1]\n",
    "    n_y = layer_size(x,y)[2]\n",
    "    parameters=initialize_parameters(n_x,n_h,n_y)\n",
    "    W1 = parameters['W1']\n",
    "    b1 = parameters['b1']\n",
    "    W2 = parameters['W2']\n",
    "    b2 = parameters['b2']\n",
    "    for i in range(0,num_iterations):\n",
    "        A2,cache=forward_propagation(A0,parameters)\n",
    "        cost=compute_cost(A2, Y, parameters)\n",
    "        grads=backward_propagation(parameters,cache,A0,Y)\n",
    "        parameters=update_parameters(parameters,grads)\n",
    "        if print_cost and i%1000==0:\n",
    "            print('Cost after iteration %i:%f'%(i,cost))\n",
    "            \n",
    "    return parameters"
   ]
  },
  {
   "cell_type": "code",
   "execution_count": 219,
   "metadata": {
    "ExecuteTime": {
     "end_time": "2020-07-16T14:28:53.968470Z",
     "start_time": "2020-07-16T14:28:51.055077Z"
    },
    "scrolled": true
   },
   "outputs": [
    {
     "name": "stdout",
     "output_type": "stream",
     "text": [
      "Cost after iteration 0:0.002267\n",
      "Cost after iteration 1000:inf\n"
     ]
    },
    {
     "name": "stderr",
     "output_type": "stream",
     "text": [
      "D:\\Python\\Anaconda\\lib\\site-packages\\ipykernel_launcher.py:8: RuntimeWarning: invalid value encountered in log\n",
      "  \n",
      "D:\\Python\\Anaconda\\lib\\site-packages\\ipykernel_launcher.py:8: RuntimeWarning: divide by zero encountered in log\n",
      "  \n"
     ]
    },
    {
     "name": "stdout",
     "output_type": "stream",
     "text": [
      "Cost after iteration 2000:inf\n",
      "Cost after iteration 3000:inf\n",
      "Cost after iteration 4000:inf\n",
      "Cost after iteration 5000:inf\n",
      "Cost after iteration 6000:inf\n",
      "Cost after iteration 7000:inf\n",
      "Cost after iteration 8000:inf\n",
      "Cost after iteration 9000:inf\n",
      "Cost after iteration 10000:inf\n",
      "Cost after iteration 11000:inf\n",
      "Cost after iteration 12000:inf\n",
      "Cost after iteration 13000:inf\n",
      "Cost after iteration 14000:inf\n",
      "Cost after iteration 15000:inf\n",
      "Cost after iteration 16000:inf\n",
      "Cost after iteration 17000:inf\n",
      "Cost after iteration 18000:inf\n",
      "Cost after iteration 19000:inf\n"
     ]
    }
   ],
   "source": [
    "parameters = nn_model(A0,Y,10,num_iterations=20000, print_cost=True)"
   ]
  },
  {
   "cell_type": "code",
   "execution_count": 220,
   "metadata": {
    "ExecuteTime": {
     "end_time": "2020-07-16T14:28:54.154841Z",
     "start_time": "2020-07-16T14:28:54.146822Z"
    }
   },
   "outputs": [],
   "source": [
    "def predict(parameters,A0):\n",
    "    A2,cache=forward_propagation(A0,parameters)\n",
    "    predictions=A2\n",
    "    return predictions"
   ]
  },
  {
   "cell_type": "code",
   "execution_count": 221,
   "metadata": {
    "ExecuteTime": {
     "end_time": "2020-07-16T14:28:54.358360Z",
     "start_time": "2020-07-16T14:28:54.350872Z"
    }
   },
   "outputs": [
    {
     "name": "stdout",
     "output_type": "stream",
     "text": [
      "predictions mean = 100.0\n"
     ]
    }
   ],
   "source": [
    "predictions=predict(parameters,A0)\n",
    "print(\"predictions mean = \" + str(np.mean(predictions)*100))"
   ]
  },
  {
   "cell_type": "code",
   "execution_count": 222,
   "metadata": {
    "ExecuteTime": {
     "end_time": "2020-07-16T14:28:54.595997Z",
     "start_time": "2020-07-16T14:28:54.572471Z"
    }
   },
   "outputs": [
    {
     "name": "stdout",
     "output_type": "stream",
     "text": [
      "Accuracy: 0%\n"
     ]
    }
   ],
   "source": [
    "# Print accuracy\n",
    "predictions = predict(parameters, A0)\n",
    "print ('Accuracy: %d' % float((np.dot(Y, predictions.T) + np.dot(1 - Y, 1 - predictions.T)) / float(Y.size) * 100) + '%')"
   ]
  },
  {
   "cell_type": "code",
   "execution_count": 223,
   "metadata": {
    "ExecuteTime": {
     "end_time": "2020-07-16T14:28:56.245696Z",
     "start_time": "2020-07-16T14:28:54.804797Z"
    }
   },
   "outputs": [
    {
     "name": "stdout",
     "output_type": "stream",
     "text": [
      "Cost after iteration 0:0.002267\n",
      "Cost after iteration 1000:inf\n"
     ]
    },
    {
     "name": "stderr",
     "output_type": "stream",
     "text": [
      "D:\\Python\\Anaconda\\lib\\site-packages\\ipykernel_launcher.py:8: RuntimeWarning: invalid value encountered in log\n",
      "  \n",
      "D:\\Python\\Anaconda\\lib\\site-packages\\ipykernel_launcher.py:8: RuntimeWarning: divide by zero encountered in log\n",
      "  \n"
     ]
    },
    {
     "name": "stdout",
     "output_type": "stream",
     "text": [
      "Cost after iteration 2000:inf\n",
      "Cost after iteration 3000:inf\n",
      "Cost after iteration 4000:inf\n",
      "Cost after iteration 5000:inf\n",
      "Cost after iteration 6000:inf\n",
      "Cost after iteration 7000:inf\n",
      "Cost after iteration 8000:inf\n",
      "Cost after iteration 9000:inf\n"
     ]
    }
   ],
   "source": [
    "# Build a model with a n_h-dimensional hidden layer\n",
    "parameters = nn_model(A0, Y, n_h = 4, num_iterations=10000, print_cost=True)\n",
    "\n",
    "# Plot the decision boundary\n",
    "#plot_decision_boundary(lambda x: predict(parameters, x.T), A0, Y)\n",
    "#plt.title(\"Decision Boundary for hidden layer size \" + str(4))"
   ]
  },
  {
   "cell_type": "code",
   "execution_count": 224,
   "metadata": {
    "ExecuteTime": {
     "end_time": "2020-07-16T14:29:04.711377Z",
     "start_time": "2020-07-16T14:28:56.476142Z"
    }
   },
   "outputs": [
    {
     "name": "stderr",
     "output_type": "stream",
     "text": [
      "D:\\Python\\Anaconda\\lib\\site-packages\\ipykernel_launcher.py:8: RuntimeWarning: invalid value encountered in log\n",
      "  \n",
      "D:\\Python\\Anaconda\\lib\\site-packages\\ipykernel_launcher.py:8: RuntimeWarning: divide by zero encountered in log\n",
      "  \n"
     ]
    },
    {
     "name": "stdout",
     "output_type": "stream",
     "text": [
      "Accuracy for 1 hidden units: 0.0 %\n",
      "Accuracy for 2 hidden units: 0.0 %\n",
      "Accuracy for 3 hidden units: 0.0 %\n",
      "Accuracy for 4 hidden units: 0.0 %\n",
      "Accuracy for 5 hidden units: 0.0 %\n",
      "Accuracy for 6 hidden units: 0.0 %\n",
      "Accuracy for 7 hidden units: 0.0 %\n",
      "Accuracy for 8 hidden units: 0.0 %\n",
      "Accuracy for 9 hidden units: 0.0 %\n",
      "Accuracy for 10 hidden units: 0.0 %\n"
     ]
    }
   ],
   "source": [
    "# This may take about 2 minutes to run\n",
    "hidden_layer_sizes = [1,2,3,4,5,6,7,8,9,10]\n",
    "for i, n_h in enumerate(hidden_layer_sizes):\n",
    "    parameters = nn_model(A0, Y, n_h, num_iterations=5000)\n",
    "    predictions = predict(parameters, A0)\n",
    "    accuracy = float((np.dot(Y, predictions.T) + np.dot(1 - Y, 1 - predictions.T)) / float(Y.size) * 100)\n",
    "    print (\"Accuracy for {} hidden units: {} %\".format(n_h, accuracy))"
   ]
  },
  {
   "cell_type": "code",
   "execution_count": 225,
   "metadata": {
    "ExecuteTime": {
     "end_time": "2020-07-16T14:29:04.924631Z",
     "start_time": "2020-07-16T14:29:04.920517Z"
    }
   },
   "outputs": [],
   "source": [
    "#What happens when you change the tanh activation for a sigmoid activation or a ReLU activation?\n",
    "#Play with the learning_rate. What happens?\n",
    "#What if we change the dataset? (See part 5 below!)"
   ]
  },
  {
   "cell_type": "code",
   "execution_count": null,
   "metadata": {},
   "outputs": [],
   "source": []
  },
  {
   "cell_type": "code",
   "execution_count": null,
   "metadata": {},
   "outputs": [],
   "source": []
  },
  {
   "cell_type": "code",
   "execution_count": 1,
   "metadata": {
    "ExecuteTime": {
     "end_time": "2020-07-22T10:43:21.630999Z",
     "start_time": "2020-07-22T10:43:21.616297Z"
    }
   },
   "outputs": [
    {
     "data": {
      "text/plain": [
       "'C:\\\\Users\\\\abhisv.CORP'"
      ]
     },
     "execution_count": 1,
     "metadata": {},
     "output_type": "execute_result"
    }
   ],
   "source": [
    "pwd"
   ]
  },
  {
   "cell_type": "code",
   "execution_count": null,
   "metadata": {},
   "outputs": [],
   "source": []
  },
  {
   "cell_type": "code",
   "execution_count": null,
   "metadata": {},
   "outputs": [],
   "source": []
  },
  {
   "cell_type": "code",
   "execution_count": null,
   "metadata": {},
   "outputs": [],
   "source": []
  },
  {
   "cell_type": "code",
   "execution_count": null,
   "metadata": {},
   "outputs": [],
   "source": []
  },
  {
   "cell_type": "code",
   "execution_count": null,
   "metadata": {},
   "outputs": [],
   "source": []
  },
  {
   "cell_type": "code",
   "execution_count": null,
   "metadata": {},
   "outputs": [],
   "source": []
  }
 ],
 "metadata": {
  "kernelspec": {
   "display_name": "Python 3",
   "language": "python",
   "name": "python3"
  },
  "language_info": {
   "codemirror_mode": {
    "name": "ipython",
    "version": 3
   },
   "file_extension": ".py",
   "mimetype": "text/x-python",
   "name": "python",
   "nbconvert_exporter": "python",
   "pygments_lexer": "ipython3",
   "version": "3.7.3"
  },
  "toc": {
   "base_numbering": 1,
   "nav_menu": {},
   "number_sections": true,
   "sideBar": true,
   "skip_h1_title": false,
   "title_cell": "Table of Contents",
   "title_sidebar": "Contents",
   "toc_cell": false,
   "toc_position": {},
   "toc_section_display": true,
   "toc_window_display": false
  },
  "varInspector": {
   "cols": {
    "lenName": 16,
    "lenType": 16,
    "lenVar": 40
   },
   "kernels_config": {
    "python": {
     "delete_cmd_postfix": "",
     "delete_cmd_prefix": "del ",
     "library": "var_list.py",
     "varRefreshCmd": "print(var_dic_list())"
    },
    "r": {
     "delete_cmd_postfix": ") ",
     "delete_cmd_prefix": "rm(",
     "library": "var_list.r",
     "varRefreshCmd": "cat(var_dic_list()) "
    }
   },
   "types_to_exclude": [
    "module",
    "function",
    "builtin_function_or_method",
    "instance",
    "_Feature"
   ],
   "window_display": false
  }
 },
 "nbformat": 4,
 "nbformat_minor": 2
}
